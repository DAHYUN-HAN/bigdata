{
 "cells": [
  {
   "cell_type": "markdown",
   "metadata": {},
   "source": [
    "## 제목\n",
    "**강조**  \n",
    "*기울이기*\n"
   ]
  },
  {
   "cell_type": "markdown",
   "metadata": {},
   "source": [
    "1. 데이터 준비\n",
    "2. 데이터 보기 : .info(), .describe(), 데이터 유형 확인 df.dtypes, 행 데이터, 열변수, 변수유형, 데이터 조작:데이터 개수 확인-데이터 정렬, 데이터 병합과 연결(옵션)\n",
    "3. 데이터 클린징 : 결측값, 이상값, 중복값\n",
    "4. 데이터 탐색 : 단일변수 데이터 분석, 데이터재구조화, 데이터그룹분석\n",
    "5. 데이터 시각화 : 범주형 단일변수, 연속형 단일변수, 범주형/범주형, 연속형/연속형, 범주형/범주형"
   ]
  },
  {
   "cell_type": "markdown",
   "metadata": {},
   "source": [
    "**시본 내장 데이터**  \n",
    "tips / titanic / iris / flights"
   ]
  },
  {
   "cell_type": "code",
   "execution_count": null,
   "metadata": {},
   "outputs": [],
   "source": [
    "#             범주형    연속형          범주형  \n",
    "sns.barplot(x=\"Sex\", y=\"Survived\", hue=\"Pclass\", color=\"salmon\", data=df)"
   ]
  },
  {
   "cell_type": "code",
   "execution_count": null,
   "metadata": {},
   "outputs": [],
   "source": [
    "sns.catplot('Survived', kind='count', data=df, palette=\"Set2\")\n",
    "plt.title(\"제목\")\n",
    "plt.show()"
   ]
  }
 ],
 "metadata": {
  "kernelspec": {
   "display_name": "Python 3",
   "language": "python",
   "name": "python3"
  },
  "language_info": {
   "codemirror_mode": {
    "name": "ipython",
    "version": 3
   },
   "file_extension": ".py",
   "mimetype": "text/x-python",
   "name": "python",
   "nbconvert_exporter": "python",
   "pygments_lexer": "ipython3",
   "version": "3.8.2"
  }
 },
 "nbformat": 4,
 "nbformat_minor": 2
}
