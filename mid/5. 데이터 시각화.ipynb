{
 "cells": [
  {
   "cell_type": "code",
   "execution_count": 1,
   "metadata": {},
   "outputs": [],
   "source": [
    "#관련 라이브러리 불러오기\n",
    "import pandas as pd #판다스\n",
    "import matplotlib as mpl #맷플롭립\n",
    "import matplotlib.pylab as plt #맷플롭립\n",
    "import seaborn as sns #시본\n",
    "import numpy as np # 넘파이\n",
    "\n",
    "file_path='data/titanic_cleansing.csv' #data 폴더에 .csv 파일 위치해 있음.\n",
    "df = pd.read_csv(file_path) #read csv() 함수로 데이터프레임 변환"
   ]
  },
  {
   "cell_type": "markdown",
   "metadata": {},
   "source": [
    "## 데이터 시각화"
   ]
  },
  {
   "cell_type": "code",
   "execution_count": null,
   "metadata": {},
   "outputs": [],
   "source": []
  }
 ],
 "metadata": {
  "kernelspec": {
   "display_name": "Python 3",
   "language": "python",
   "name": "python3"
  },
  "language_info": {
   "codemirror_mode": {
    "name": "ipython",
    "version": 3
   },
   "file_extension": ".py",
   "mimetype": "text/x-python",
   "name": "python",
   "nbconvert_exporter": "python",
   "pygments_lexer": "ipython3",
   "version": "3.8.2"
  }
 },
 "nbformat": 4,
 "nbformat_minor": 4
}
